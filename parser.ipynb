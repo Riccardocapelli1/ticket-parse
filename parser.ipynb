{
 "cells": [
  {
   "cell_type": "code",
   "execution_count": 1,
   "metadata": {},
   "outputs": [],
   "source": [
    "import pandas as pd"
   ]
  },
  {
   "cell_type": "code",
   "execution_count": 2,
   "metadata": {},
   "outputs": [],
   "source": [
    "fp = \"./text/1-lidl-text.txt\"\n",
    "data = []"
   ]
  },
  {
   "cell_type": "code",
   "execution_count": 3,
   "metadata": {},
   "outputs": [],
   "source": [
    "with open(fp, 'r') as f:\n",
    "    header = f.readline().strip().split(',')\n",
    "    for line in f:\n",
    "        val = line.strip().split(',')\n",
    "        data.append(dict(zip(header, val)))\n"
   ]
  },
  {
   "cell_type": "code",
   "execution_count": 4,
   "metadata": {},
   "outputs": [
    {
     "name": "stdout",
     "output_type": "stream",
     "text": [
      "                                                Copia\n",
      "0                                                    \n",
      "1                            LIDL SUPERMERCADOS S.A.U\n",
      "2                                  Guzman el Bueno 70\n",
      "3                                         28015Madrid\n",
      "4                                       NIF A60195278\n",
      "5                                                    \n",
      "6                                                 EUR\n",
      "7                                                    \n",
      "8                           Mandarina Nacional Var. 1\n",
      "9                                                   0\n",
      "10                         Bellarom/Cap compostable 1\n",
      "11                         Favorina/Almendras cacao 0\n",
      "12                               -/Pechuga de pollo 4\n",
      "13                                                  0\n",
      "14                         Chef Select/Hummus natur 0\n",
      "15                                    Barra rustica 0\n",
      "16                                           Total 10\n",
      "17                                         Tarjeta 10\n",
      "18                                 036524205 00000003\n",
      "19                                  A0000000041010 00\n",
      "20                                 VENDITA MASTERCARD\n",
      "21                            535560XXXXXX1765 464292\n",
      "22                                02/12/2023 18:24:35\n",
      "23                                           IMP.: 10\n",
      "24                             RECIBO PARA EL CLIENTE\n",
      "25                                                   \n",
      "26                            IVA% IVA + P Neto = PvP\n",
      "27                                            B10 % 0\n",
      "28                                          â€”E 0% 0\n",
      "29                                             Suma 0\n",
      "30                      5110 140214/83 02.12.23 18:23\n",
      "31                                                   \n",
      "32                Devoluciones articulos de bazar con\n",
      "33               ticket de compra y embalaje original\n",
      "34                  en un plazo maximo de 30 dias sin\n",
      "35                   perjuicio de la ley de garantias\n",
      "36               Horario Tienda Lu a Sa 09:00 a 22:00\n",
      "37                              Domingo 10:00 a 22:00\n",
      "38                               AtenciÃ©n al cliente\n",
      "39                 www.lidl.es/contacto Tel.900958311\n",
      "40                              GRACIAS POR SU VISITA\n",
      "41                                                   \n",
      "42                                                 UL\n",
      "43                                                   \n",
      "44  Devoluciones articulos de bazar con ticket de ...\n",
      "45  y embalaje original en un plazo maximo de 30 d...\n",
      "46                  perjuicio de la ley de garantias.\n",
      "47                                                   \n",
      "48                               AtenciÃ©n al cliente\n",
      "49                  www.lidLes/contacto Tel.900958311\n",
      "50                                                   \n",
      "51                            GRACIAS POR SU VISITA &\n",
      "52                                                   \n",
      "53                                Compra realizada en\n",
      "54                                                   \n",
      "55                                    Guzman el Bueno\n",
      "56                                 C/ Guzman el Bueno\n",
      "57                                       28015 Madrid\n",
      "58                                                   \n",
      "59                         InformaciÃ©6n de la tienda\n"
     ]
    }
   ],
   "source": [
    "df = pd.DataFrame(data)\n",
    "print(df)"
   ]
  }
 ],
 "metadata": {
  "kernelspec": {
   "display_name": "ticket",
   "language": "python",
   "name": "python3"
  },
  "language_info": {
   "codemirror_mode": {
    "name": "ipython",
    "version": 3
   },
   "file_extension": ".py",
   "mimetype": "text/x-python",
   "name": "python",
   "nbconvert_exporter": "python",
   "pygments_lexer": "ipython3",
   "version": "3.9.13"
  }
 },
 "nbformat": 4,
 "nbformat_minor": 2
}
